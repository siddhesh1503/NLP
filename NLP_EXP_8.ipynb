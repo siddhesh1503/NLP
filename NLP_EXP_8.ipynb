{
  "nbformat": 4,
  "nbformat_minor": 0,
  "metadata": {
    "colab": {
      "provenance": [],
      "authorship_tag": "ABX9TyPzjZaabYarTBFZg117vNRh",
      "include_colab_link": true
    },
    "kernelspec": {
      "name": "python3",
      "display_name": "Python 3"
    },
    "language_info": {
      "name": "python"
    }
  },
  "cells": [
    {
      "cell_type": "markdown",
      "metadata": {
        "id": "view-in-github",
        "colab_type": "text"
      },
      "source": [
        "<a href=\"https://colab.research.google.com/github/siddhesh1503/NLP/blob/main/NLP_EXP_8.ipynb\" target=\"_parent\"><img src=\"https://colab.research.google.com/assets/colab-badge.svg\" alt=\"Open In Colab\"/></a>"
      ]
    },
    {
      "cell_type": "markdown",
      "source": [
        "### **Chunking using NLTK (English)**"
      ],
      "metadata": {
        "id": "MPzuzE11-22J"
      }
    },
    {
      "cell_type": "code",
      "source": [
        "!pip install nltk --quiet\n",
        "\n",
        "import nltk\n",
        "from nltk import pos_tag, word_tokenize, RegexpParser\n",
        "\n",
        "# Downloads (safe for new NLTK)\n",
        "nltk.download(\"punkt\", quiet=True)\n",
        "nltk.download(\"punkt_tab\", quiet=True)\n",
        "nltk.download(\"averaged_perceptron_tagger\", quiet=True)\n",
        "nltk.download(\"averaged_perceptron_tagger_eng\", quiet=True)\n",
        "\n",
        "# Improved Grammar\n",
        "grammar = r\"\"\"\n",
        "  NP:   {<DT>?<JJ.*>*<NN.*>+}        # Noun Phrase\n",
        "  PP:   {<IN><NP>}                   # Prepositional Phrase\n",
        "  VP:   {<VB.*><NP|PP|CLAUSE|ADJP>*} # Verb Phrase\n",
        "  ADJP: {<JJ.*><RB.*>*}              # Adjective Phrase\n",
        "\"\"\"\n",
        "\n",
        "chunk_parser = RegexpParser(grammar)\n",
        "\n",
        "# Loop for dynamic input\n",
        "while True:\n",
        "    sentence = input(\"\\n[NLTK] Enter a sentence (or 'exit' to quit): \")\n",
        "    if sentence.lower() == \"exit\":\n",
        "        break\n",
        "\n",
        "    tokens = word_tokenize(sentence)\n",
        "    tagged = pos_tag(tokens)\n",
        "    tree = chunk_parser.parse(tagged)\n",
        "\n",
        "    print(\"\\nPOS Tags:\", tagged)\n",
        "    print(\"\\nChunk Tree (pretty print):\")\n",
        "    tree.pretty_print()   # nicely indented tree\n",
        "\n",
        "    print(\"\\nBracketed Tree:\")\n",
        "    print(tree)           # S-expression style\n"
      ],
      "metadata": {
        "colab": {
          "base_uri": "https://localhost:8080/"
        },
        "id": "v9bphZmP4vFz",
        "outputId": "0fc6c318-0138-4cec-cc2c-b490c0a600ee"
      },
      "execution_count": null,
      "outputs": [
        {
          "name": "stdout",
          "output_type": "stream",
          "text": [
            "\n",
            "[NLTK] Enter a sentence (or 'exit' to quit): The boy is playing\n",
            "\n",
            "POS Tags: [('The', 'DT'), ('boy', 'NN'), ('is', 'VBZ'), ('playing', 'VBG')]\n",
            "\n",
            "Chunk Tree (pretty print):\n",
            "             S                      \n",
            "         ____|________________       \n",
            "        NP          VP        VP    \n",
            "   _____|____       |         |      \n",
            "The/DT     boy/NN is/VBZ playing/VBG\n",
            "\n",
            "\n",
            "Bracketed Tree:\n",
            "(S (NP The/DT boy/NN) (VP is/VBZ) (VP playing/VBG))\n",
            "\n",
            "[NLTK] Enter a sentence (or 'exit' to quit): exit\n"
          ]
        }
      ]
    },
    {
      "cell_type": "markdown",
      "source": [
        "# **Chunking using SpaCy (English)**"
      ],
      "metadata": {
        "id": "uJmls-Gy_QBM"
      }
    },
    {
      "cell_type": "code",
      "source": [
        "# Install packages\n",
        "!pip install spacy benepar torch --quiet\n",
        "!python -m spacy download en_core_web_sm > /dev/null\n",
        "\n",
        "import spacy\n",
        "import benepar\n",
        "\n",
        "# Load spaCy model\n",
        "nlp = spacy.load(\"en_core_web_sm\")\n",
        "\n",
        "# Download benepar model (if not already)\n",
        "benepar.download(\"benepar_en3\")\n",
        "\n",
        "# Add benepar to the pipeline\n",
        "if \"benepar\" not in nlp.pipe_names:\n",
        "    nlp.add_pipe(\"benepar\", config={\"model\": \"benepar_en3\"})\n",
        "\n",
        "def spacy_chunking(sentence):\n",
        "    doc = nlp(sentence)\n",
        "    sent = list(doc.sents)[0]  # first sentence\n",
        "\n",
        "    # POS tags (already Penn-style)\n",
        "    tags = [(token.text, token.tag_) for token in sent]\n",
        "\n",
        "    # Use benepar's constituency parse\n",
        "    tree = sent._.parse_string   # <-- safer than parse_tree, always works\n",
        "\n",
        "    # Convert to NLTK Tree for pretty printing\n",
        "    from nltk import Tree\n",
        "    tree_obj = Tree.fromstring(tree)\n",
        "\n",
        "    print(\"\\nPOS Tags:\", tags)\n",
        "    print(\"\\nChunk Tree (pretty print):\")\n",
        "    tree_obj.pretty_print()\n",
        "    print(\"\\nBracketed Tree:\")\n",
        "    print(tree_obj)\n",
        "\n",
        "\n",
        "# Interactive loop\n",
        "while True:\n",
        "    sentence = input(\"\\n[spaCy + Benepar] Enter a sentence (or 'exit' to quit): \")\n",
        "    if sentence.lower() == \"exit\":\n",
        "        break\n",
        "    spacy_chunking(sentence)\n"
      ],
      "metadata": {
        "colab": {
          "base_uri": "https://localhost:8080/"
        },
        "id": "9jWhQgal6w5h",
        "outputId": "2e2e085a-5243-42a4-85e7-aa22764c982a"
      },
      "execution_count": null,
      "outputs": [
        {
          "output_type": "stream",
          "name": "stderr",
          "text": [
            "[nltk_data] Downloading package benepar_en3 to /root/nltk_data...\n",
            "[nltk_data]   Package benepar_en3 is already up-to-date!\n"
          ]
        },
        {
          "name": "stdout",
          "output_type": "stream",
          "text": [
            "\n",
            "[spaCy + Benepar] Enter a sentence (or 'exit' to quit): The boy is smart\n"
          ]
        },
        {
          "output_type": "stream",
          "name": "stderr",
          "text": [
            "You're using a T5TokenizerFast tokenizer. Please note that with a fast tokenizer, using the `__call__` method is faster than using a method to encode the text followed by a call to the `pad` method to get a padded encoding.\n"
          ]
        },
        {
          "name": "stdout",
          "output_type": "stream",
          "text": [
            "\n",
            "POS Tags: [('The', 'DT'), ('boy', 'NN'), ('is', 'VBZ'), ('smart', 'JJ')]\n",
            "\n",
            "Chunk Tree (pretty print):\n",
            "             S               \n",
            "      _______|_______         \n",
            "     |               VP      \n",
            "     |            ___|____    \n",
            "     NP          |       ADJP\n",
            "  ___|___        |        |   \n",
            " DT      NN     VBZ       JJ \n",
            " |       |       |        |   \n",
            "The     boy      is     smart\n",
            "\n",
            "\n",
            "Bracketed Tree:\n",
            "(S (NP (DT The) (NN boy)) (VP (VBZ is) (ADJP (JJ smart))))\n",
            "\n",
            "[spaCy + Benepar] Enter a sentence (or 'exit' to quit): the boy is playing\n",
            "\n",
            "POS Tags: [('the', 'DT'), ('boy', 'NN'), ('is', 'VBZ'), ('playing', 'VBG')]\n",
            "\n",
            "Chunk Tree (pretty print):\n",
            "             S                 \n",
            "      _______|_______           \n",
            "     |               VP        \n",
            "     |            ___|_____     \n",
            "     NP          |         VP  \n",
            "  ___|___        |         |    \n",
            " DT      NN     VBZ       VBG  \n",
            " |       |       |         |    \n",
            "the     boy      is     playing\n",
            "\n",
            "\n",
            "Bracketed Tree:\n",
            "(S (NP (DT the) (NN boy)) (VP (VBZ is) (VP (VBG playing))))\n",
            "\n",
            "[spaCy + Benepar] Enter a sentence (or 'exit' to quit): exit\n"
          ]
        }
      ]
    },
    {
      "cell_type": "markdown",
      "source": [
        "# **Chunking using STANZA (English)**"
      ],
      "metadata": {
        "id": "DdfZ-BrvB7bM"
      }
    },
    {
      "cell_type": "code",
      "source": [
        "# Install requirements\n",
        "!pip install stanza benepar torch --quiet\n",
        "\n",
        "import stanza\n",
        "import benepar\n",
        "from nltk import Tree\n",
        "import logging\n",
        "\n",
        "# 🔹 Disable Stanza logging\n",
        "logging.getLogger(\"stanza\").setLevel(logging.ERROR)\n",
        "\n",
        "# Download English model (silent)\n",
        "stanza.download(\"en\", verbose=False)\n",
        "\n",
        "# Initialize Stanza pipeline (tokenize, pos, constituency)\n",
        "nlp = stanza.Pipeline(\"en\", processors=\"tokenize,pos,constituency\", verbose=False)\n",
        "\n",
        "# Download benepar model (silent)\n",
        "benepar.download(\"benepar_en3\")\n",
        "\n",
        "def stanza_chunking(sentence):\n",
        "    doc = nlp(sentence)\n",
        "    sent = doc.sentences[0]\n",
        "\n",
        "    # POS tags\n",
        "    tags = [(word.text, word.xpos) for word in sent.words]\n",
        "\n",
        "    # Constituency tree\n",
        "    tree = sent.constituency\n",
        "    tree_obj = Tree.fromstring(str(tree))\n",
        "\n",
        "    print(\"\\nPOS Tags:\", tags)\n",
        "    print(\"\\nChunk Tree (pretty print):\")\n",
        "    tree_obj.pretty_print()\n",
        "    print(\"\\nBracketed Tree:\")\n",
        "    print(tree_obj)\n",
        "\n",
        "\n",
        "# 🔹 Interactive loop\n",
        "while True:\n",
        "    sentence = input(\"\\nEnter a sentence (or 'exit' to quit): \")\n",
        "    if sentence.lower() == \"exit\":\n",
        "        break\n",
        "    stanza_chunking(sentence)\n"
      ],
      "metadata": {
        "colab": {
          "base_uri": "https://localhost:8080/"
        },
        "id": "hEf9Z5jw7I6X",
        "outputId": "7699d6c6-8660-49f8-a8d8-f8c2f69efaff"
      },
      "execution_count": null,
      "outputs": [
        {
          "output_type": "stream",
          "name": "stderr",
          "text": [
            "[nltk_data] Downloading package benepar_en3 to /root/nltk_data...\n",
            "[nltk_data]   Package benepar_en3 is already up-to-date!\n"
          ]
        },
        {
          "name": "stdout",
          "output_type": "stream",
          "text": [
            "\n",
            "Enter a sentence (or 'exit' to quit): The boy is smart\n",
            "\n",
            "POS Tags: [('The', 'DT'), ('boy', 'NN'), ('is', 'VBZ'), ('smart', 'JJ')]\n",
            "\n",
            "Chunk Tree (pretty print):\n",
            "            ROOT              \n",
            "             |                 \n",
            "             S                \n",
            "      _______|________         \n",
            "     |                VP      \n",
            "     |             ___|____    \n",
            "     NP           |       ADJP\n",
            "  ___|___         |        |   \n",
            " DT      NN      VBZ       JJ \n",
            " |       |        |        |   \n",
            "The     boy       is     smart\n",
            "\n",
            "\n",
            "Bracketed Tree:\n",
            "(ROOT (S (NP (DT The) (NN boy)) (VP (VBZ is) (ADJP (JJ smart)))))\n",
            "\n",
            "Enter a sentence (or 'exit' to quit): exit\n"
          ]
        }
      ]
    },
    {
      "cell_type": "markdown",
      "source": [
        "# **Chunking using STANZA (Regional Language)**"
      ],
      "metadata": {
        "id": "QIQJSFChCE6a"
      }
    },
    {
      "cell_type": "code",
      "source": [
        "!pip install stanza nltk --quiet\n",
        "\n",
        "import stanza\n",
        "import logging\n",
        "from nltk import Tree\n",
        "\n",
        "# 🔹 Disable Stanza logging\n",
        "logging.getLogger(\"stanza\").setLevel(logging.ERROR)\n",
        "\n",
        "# Download models once (silent)\n",
        "stanza.download(\"hi\", verbose=False)\n",
        "stanza.download(\"mr\", verbose=False)\n",
        "\n",
        "# Pipelines (with lemma for depparse)\n",
        "pipelines = {\n",
        "    \"hi\": stanza.Pipeline(\"hi\", processors=\"tokenize,pos,lemma,depparse\", verbose=False),\n",
        "    \"mr\": stanza.Pipeline(\"mr\", processors=\"tokenize,pos,lemma,depparse\", verbose=False)\n",
        "}\n",
        "\n",
        "def stanza_dependency_tree(sentence, lang=\"hi\"):\n",
        "    nlp = pipelines[lang]\n",
        "    doc = nlp(sentence)\n",
        "    sent = doc.sentences[0]\n",
        "\n",
        "    # Build children dict\n",
        "    children = {word.id: [] for word in sent.words}\n",
        "    root = None\n",
        "    for word in sent.words:\n",
        "        if word.head == 0:   # root\n",
        "            root = word.id\n",
        "        else:\n",
        "            children[word.head].append(word.id)\n",
        "\n",
        "    # Recursive tree builder\n",
        "    def build_tree(node_id):\n",
        "        word = sent.words[node_id-1]\n",
        "        label = f\"{word.text}/{word.upos}\"\n",
        "        if children[node_id]:\n",
        "            return Tree(label, [build_tree(child) for child in children[node_id]])\n",
        "        else:\n",
        "            return label\n",
        "\n",
        "    tree = build_tree(root)\n",
        "\n",
        "    print(f\"\\n===== {lang.upper()} Sentence =====\")\n",
        "    print(\"Sentence:\", sentence)\n",
        "\n",
        "    print(\"\\nPOS Tags:\")\n",
        "    for w in sent.words:\n",
        "        print(f\"{w.text}\\t{w.upos}\\t({w.xpos})\")\n",
        "\n",
        "    print(\"\\nChunk Tree :\")\n",
        "    if isinstance(tree, Tree):\n",
        "        tree.pretty_print()\n",
        "    print(\"\\nBracketed Tree:\")\n",
        "    print(tree)\n",
        "\n",
        "\n",
        "# 🔹 Run for Hindi\n",
        "stanza_dependency_tree(\"मुझे क्रिकेट खेलना पसंद है।\", \"hi\")\n",
        "\n",
        "# 🔹 Run for Marathi\n",
        "stanza_dependency_tree(\"मला क्रिकेट खेळायला आवडते.\", \"mr\")\n"
      ],
      "metadata": {
        "colab": {
          "base_uri": "https://localhost:8080/"
        },
        "id": "h6KwbT419BIu",
        "outputId": "883649a0-2c7e-4650-a4c7-75f244c7f578"
      },
      "execution_count": null,
      "outputs": [
        {
          "output_type": "stream",
          "name": "stdout",
          "text": [
            "\n",
            "===== HI Sentence =====\n",
            "Sentence: मुझे क्रिकेट खेलना पसंद है।\n",
            "\n",
            "POS Tags:\n",
            "मुझे\tPRON\t(PRP)\n",
            "क्रिकेट\tPROPN\t(NNP)\n",
            "खेलना\tVERB\t(VM)\n",
            "पसंद\tADJ\t(JJ)\n",
            "है\tVERB\t(VM)\n",
            "।\tPUNCT\t(SYM)\n",
            "\n",
            "Chunk Tree :\n",
            "          है/VERB                       \n",
            "     ________|___________________        \n",
            "    |        |        |      खेलना/VERB \n",
            "    |        |        |          |       \n",
            "मुझे/PRON पसंद/ADJ ।/PUNCT क्रिकेट/PROPN\n",
            "\n",
            "\n",
            "Bracketed Tree:\n",
            "(है/VERB मुझे/PRON (खेलना/VERB क्रिकेट/PROPN) पसंद/ADJ ।/PUNCT)\n",
            "\n",
            "===== MR Sentence =====\n",
            "Sentence: मला क्रिकेट खेळायला आवडते.\n",
            "\n",
            "POS Tags:\n",
            "मला\tPRON\t(None)\n",
            "क्रिकेट\tNOUN\t(None)\n",
            "खेळायला\tVERB\t(None)\n",
            "आवडते\tVERB\t(None)\n",
            ".\tPUNCT\t(None)\n",
            "\n",
            "Chunk Tree :\n",
            "         आवडते/VERB             \n",
            "    _________|___________        \n",
            "   |         |      खेळायला/VERB\n",
            "   |         |           |       \n",
            "मला/PRON  ./PUNCT   क्रिकेट/NOUN\n",
            "\n",
            "\n",
            "Bracketed Tree:\n",
            "(आवडते/VERB मला/PRON (खेळायला/VERB क्रिकेट/NOUN) ./PUNCT)\n"
          ]
        }
      ]
    }
  ]
}