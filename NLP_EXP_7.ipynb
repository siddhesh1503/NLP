{
  "nbformat": 4,
  "nbformat_minor": 0,
  "metadata": {
    "colab": {
      "provenance": [],
      "authorship_tag": "ABX9TyNv9xdoObQckXNmxP5+h9i0",
      "include_colab_link": true
    },
    "kernelspec": {
      "name": "python3",
      "display_name": "Python 3"
    },
    "language_info": {
      "name": "python"
    }
  },
  "cells": [
    {
      "cell_type": "markdown",
      "metadata": {
        "id": "view-in-github",
        "colab_type": "text"
      },
      "source": [
        "<a href=\"https://colab.research.google.com/github/siddhesh1503/NLP/blob/main/NLP_EXP_7.ipynb\" target=\"_parent\"><img src=\"https://colab.research.google.com/assets/colab-badge.svg\" alt=\"Open In Colab\"/></a>"
      ]
    },
    {
      "cell_type": "markdown",
      "source": [
        "POS Tagging using NLTK (English)"
      ],
      "metadata": {
        "id": "0NtB-hevYa1f"
      }
    },
    {
      "cell_type": "code",
      "source": [
        "import nltk\n",
        "\n",
        "# Download both punkt and punkt_tab to cover all NLTK versions\n",
        "nltk.download('punkt', quiet=True)\n",
        "nltk.download('punkt_tab', quiet=True)\n",
        "nltk.download('averaged_perceptron_tagger_eng', quiet=True)\n",
        "\n",
        "from nltk.tokenize import word_tokenize\n",
        "from nltk import pos_tag\n",
        "\n",
        "# POS tag groups\n",
        "POS_GROUPS = {\n",
        "    'Noun': ['NN', 'NNS', 'NNP', 'NNPS'],\n",
        "    'Verb': ['VB', 'VBD', 'VBG', 'VBN', 'VBP', 'VBZ'],\n",
        "    'Modal': ['MD'],\n",
        "    'Preposition': ['IN'],\n",
        "    'Determiner': ['DT']\n",
        "}\n",
        "\n",
        "def filter_pos(tags):\n",
        "    return [(word, key) for word, tag in tags\n",
        "            for key, tag_list in POS_GROUPS.items() if tag in tag_list]\n",
        "\n",
        "def english_pos_tagger():\n",
        "    sentence = input(\"Enter an English sentence: \").strip()\n",
        "    if not sentence:\n",
        "        print(\"Error: Empty input!\")\n",
        "        return\n",
        "\n",
        "    tokens = word_tokenize(sentence)\n",
        "    tags = pos_tag(tokens)\n",
        "    filtered_tags = filter_pos(tags)\n",
        "\n",
        "    print(\"\\nFiltered POS Tags (Noun, Verb, Modal, Preposition, Determiner):\")\n",
        "    print(filtered_tags)\n",
        "\n",
        "if __name__ == \"__main__\":\n",
        "    english_pos_tagger()\n"
      ],
      "metadata": {
        "colab": {
          "base_uri": "https://localhost:8080/"
        },
        "id": "SNjEwPSoZDhO",
        "outputId": "093c1613-9e4e-4aa9-a700-8dbcbb54643e"
      },
      "execution_count": 4,
      "outputs": [
        {
          "output_type": "stream",
          "name": "stdout",
          "text": [
            "Enter an English sentence: the boy can play\n",
            "\n",
            "Filtered POS Tags (Noun, Verb, Modal, Preposition, Determiner):\n",
            "[('the', 'Determiner'), ('boy', 'Noun'), ('can', 'Modal'), ('play', 'Verb')]\n"
          ]
        }
      ]
    },
    {
      "cell_type": "markdown",
      "source": [
        "Regional Languages POS Tagging (Hindi & Marathi using STANZA)\n"
      ],
      "metadata": {
        "id": "jDPCJiihZp3z"
      }
    },
    {
      "cell_type": "code",
      "source": [
        "import stanza\n",
        "\n",
        "stanza.download('hi', processors='tokenize,pos', verbose=False)\n",
        "stanza.download('mr', processors='tokenize,pos', verbose=False)\n",
        "\n",
        "nlp_hi = stanza.Pipeline('hi', processors='tokenize,pos', verbose=False)\n",
        "nlp_mr = stanza.Pipeline('mr', processors='tokenize,pos', verbose=False)\n",
        "\n",
        "# Functions\n",
        "def pos_tag_stanza(text, lang):\n",
        "    if lang=='hi':\n",
        "        doc = nlp_hi(text)\n",
        "    elif lang=='mr':\n",
        "        doc = nlp_mr(text)\n",
        "    else:\n",
        "        return []\n",
        "    tags=[]\n",
        "    for sentence in doc.sentences:\n",
        "        for word in sentence.words:\n",
        "            tags.append((word.text, word.upos))\n",
        "    return tags\n",
        "\n",
        "def print_pos_tags(tags, language):\n",
        "    print(f\"\\nPOS Tags ({language}):\")\n",
        "    print(f\"{'Word':<15} {'POS Tag'}\")\n",
        "    print(\"-\"*30)\n",
        "    for word, tag in tags:\n",
        "        print(f\"{word:<15} {tag}\")\n",
        "\n",
        "# Example\n",
        "hi_text = \"मुझे क्रिकेट खेलना पसंद है।\"\n",
        "mr_text = \"मला क्रिकेट खेळायला आवडते.\"\n",
        "\n",
        "print_pos_tags(pos_tag_stanza(hi_text, 'hi'), 'Hindi')\n",
        "print_pos_tags(pos_tag_stanza(mr_text, 'mr'), 'Marathi')\n"
      ],
      "metadata": {
        "colab": {
          "base_uri": "https://localhost:8080/"
        },
        "id": "cJ6jB6F2ZriA",
        "outputId": "a4e8f94d-34a3-4ad6-e3cc-224bdf78917f"
      },
      "execution_count": 7,
      "outputs": [
        {
          "output_type": "stream",
          "name": "stdout",
          "text": [
            "\n",
            "POS Tags (Hindi):\n",
            "Word            POS Tag\n",
            "------------------------------\n",
            "मुझे            PRON\n",
            "क्रिकेट         PROPN\n",
            "खेलना           VERB\n",
            "पसंद            ADJ\n",
            "है              VERB\n",
            "।               PUNCT\n",
            "\n",
            "POS Tags (Marathi):\n",
            "Word            POS Tag\n",
            "------------------------------\n",
            "मला             PRON\n",
            "क्रिकेट         NOUN\n",
            "खेळायला         VERB\n",
            "आवडते           VERB\n",
            ".               PUNCT\n"
          ]
        }
      ]
    }
  ]
}